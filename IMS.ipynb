{
 "cells": [
  {
   "cell_type": "code",
   "execution_count": 3,
   "id": "2cd1cf53",
   "metadata": {},
   "outputs": [
    {
     "name": "stdout",
     "output_type": "stream",
     "text": [
      "Requirement already satisfied: tabulate in /Users/vinayak/Desktop/Anaconda/anaconda3/lib/python3.13/site-packages (0.9.0)\n"
     ]
    }
   ],
   "source": [
    "! pip3 install tabulate"
   ]
  },
  {
   "cell_type": "markdown",
   "id": "726eb173",
   "metadata": {},
   "source": [
    "# INVENTORY MANGEMENT SYSTEM"
   ]
  },
  {
   "cell_type": "raw",
   "id": "8bf3b9ee",
   "metadata": {
    "vscode": {
     "languageId": "raw"
    }
   },
   "source": [
    "Import Libaries"
   ]
  },
  {
   "cell_type": "code",
   "execution_count": 7,
   "id": "aee40aae",
   "metadata": {},
   "outputs": [],
   "source": [
    "import os\n",
    "import addetails as add\n",
    "import json\n",
    "from tabulate import tabulate\n",
    "filename = \"products.json\""
   ]
  },
  {
   "cell_type": "markdown",
   "id": "e6853db0",
   "metadata": {},
   "source": [
    "# LIST OF PRODUCT"
   ]
  },
  {
   "cell_type": "code",
   "execution_count": 8,
   "id": "b914a57e",
   "metadata": {},
   "outputs": [
    {
     "name": "stdout",
     "output_type": "stream",
     "text": [
      "\n",
      "Product Details:-\n",
      "+--------------+------------------+-----------------+--------------------+-----------------+--------------------+\n",
      "|   Product ID | Product Name     |   Product Price | Product Category   | Product Brand   |   Product Quantity |\n",
      "+==============+==================+=================+====================+=================+====================+\n",
      "|          101 | Airpodes 191 ANC |            7000 | TWS                | BOAT            |                200 |\n",
      "+--------------+------------------+-----------------+--------------------+-----------------+--------------------+\n",
      "|          102 | Thinkpad         |           60000 | Laptop             | Lenevo          |                100 |\n",
      "+--------------+------------------+-----------------+--------------------+-----------------+--------------------+\n",
      "|          103 | Companion 500    |            2000 | Laptop Acessriores | ZEBORNICS       |                100 |\n",
      "+--------------+------------------+-----------------+--------------------+-----------------+--------------------+\n",
      "|          104 | MARKER           |              30 | MAKER              | DOMS            |               1000 |\n",
      "+--------------+------------------+-----------------+--------------------+-----------------+--------------------+\n",
      "|          105 | ZEB-PSPK 34      |            3000 | Speaker            | ZEBORNICS       |                100 |\n",
      "+--------------+------------------+-----------------+--------------------+-----------------+--------------------+\n"
     ]
    }
   ],
   "source": [
    "def load_products(filename):\n",
    "    if os.path.exists(filename):\n",
    "        with open(filename, 'r') as file:\n",
    "            return json.load(file)\n",
    "    return {}\n",
    "\n",
    "def display_products():\n",
    "    products = load_products(filename)\n",
    "\n",
    "    if not products:\n",
    "        print(\"No products found.\")\n",
    "        return\n",
    "\n",
    "    headers = [\n",
    "        \"Product ID\", \"Product Name\", \"Product Price\",\n",
    "        \"Product Category\", \"Product Brand\", \"Product Quantity\"\n",
    "    ]\n",
    "    table = []\n",
    "\n",
    "    for productID, details in products.items():\n",
    "        row = [\n",
    "            productID,\n",
    "            details.get(\"ProductName\", \"N/A\"),\n",
    "            details.get(\"ProductPrice\", \"N/A\"),\n",
    "            details.get(\"ProductCategory\", \"N/A\"),\n",
    "            details.get(\"ProductBrand\", \"N/A\"),\n",
    "            details.get(\"ProductQuantity\", \"N/A\")\n",
    "        ]\n",
    "        table.append(row)\n",
    "\n",
    "    print(\"\\nProduct Details:-\")\n",
    "    print(tabulate(table, headers=headers, tablefmt=\"grid\"))\n",
    "\n",
    "display_products()"
   ]
  },
  {
   "cell_type": "code",
   "execution_count": null,
   "id": "26f1507d",
   "metadata": {},
   "outputs": [],
   "source": []
  }
 ],
 "metadata": {
  "kernelspec": {
   "display_name": "base",
   "language": "python",
   "name": "python3"
  },
  "language_info": {
   "codemirror_mode": {
    "name": "ipython",
    "version": 3
   },
   "file_extension": ".py",
   "mimetype": "text/x-python",
   "name": "python",
   "nbconvert_exporter": "python",
   "pygments_lexer": "ipython3",
   "version": "3.13.5"
  }
 },
 "nbformat": 4,
 "nbformat_minor": 5
}
