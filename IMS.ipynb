{
 "cells": [
  {
   "cell_type": "code",
   "execution_count": 3,
   "id": "2cd1cf53",
   "metadata": {},
   "outputs": [
    {
     "name": "stdout",
     "output_type": "stream",
     "text": [
      "Requirement already satisfied: tabulate in /Users/vinayak/Desktop/Anaconda/anaconda3/lib/python3.13/site-packages (0.9.0)\n"
     ]
    }
   ],
   "source": [
    "! pip3 install tabulate"
   ]
  },
  {
   "cell_type": "markdown",
   "id": "726eb173",
   "metadata": {},
   "source": [
    "# INVENTORY MANGEMENT SYSTEM"
   ]
  },
  {
   "cell_type": "raw",
   "id": "8bf3b9ee",
   "metadata": {
    "vscode": {
     "languageId": "raw"
    }
   },
   "source": [
    "Import Libaries"
   ]
  },
  {
   "cell_type": "code",
   "execution_count": 1,
   "id": "aee40aae",
   "metadata": {},
   "outputs": [],
   "source": [
    "import os\n",
    "import addetails as add\n",
    "import update as up\n",
    "import json\n",
    "from tabulate import tabulate\n",
    "filename = \"products.json\""
   ]
  },
  {
   "cell_type": "markdown",
   "id": "e6853db0",
   "metadata": {},
   "source": [
    "# LIST OF PRODUCT"
   ]
  },
  {
   "cell_type": "code",
   "execution_count": 2,
   "id": "b914a57e",
   "metadata": {},
   "outputs": [
    {
     "name": "stdout",
     "output_type": "stream",
     "text": [
      "\n",
      "Product Details:-\n",
      "+--------------+------------------+-----------------+--------------------+-----------------+--------------------+\n",
      "|   Product ID | Product Name     |   Product Price | Product Category   | Product Brand   |   Product Quantity |\n",
      "+==============+==================+=================+====================+=================+====================+\n",
      "|          101 | Airpodes 191 ANC |            7000 | TWS                | BOAT            |                200 |\n",
      "+--------------+------------------+-----------------+--------------------+-----------------+--------------------+\n",
      "|          102 | Thinkpad         |           60000 | Laptop             | Lenevo          |                100 |\n",
      "+--------------+------------------+-----------------+--------------------+-----------------+--------------------+\n",
      "|          103 | Companion 500    |            2000 | Laptop Acessriores | ZEBORNICS       |                100 |\n",
      "+--------------+------------------+-----------------+--------------------+-----------------+--------------------+\n",
      "|          104 | MARKER           |              30 | MAKER              | DOMS            |               1000 |\n",
      "+--------------+------------------+-----------------+--------------------+-----------------+--------------------+\n",
      "|          105 | ZEB-PSPK 34      |            3000 | Speaker            | ZEBORNICS       |                100 |\n",
      "+--------------+------------------+-----------------+--------------------+-----------------+--------------------+\n",
      "|          106 | A26              |           20000 | Smartphone         | Samsung         |                 20 |\n",
      "+--------------+------------------+-----------------+--------------------+-----------------+--------------------+\n"
     ]
    }
   ],
   "source": [
    "def load_products(filename):\n",
    "    if os.path.exists(filename):\n",
    "        with open(filename, 'r') as file:\n",
    "            return json.load(file)\n",
    "    return {}\n",
    "\n",
    "def display_products():\n",
    "    products = load_products(filename)\n",
    "\n",
    "    if not products:\n",
    "        print(\"No products found.\")\n",
    "        return\n",
    "\n",
    "    headers = [\n",
    "        \"Product ID\", \"Product Name\", \"Product Price\",\n",
    "        \"Product Category\", \"Product Brand\", \"Product Quantity\"\n",
    "    ]\n",
    "    table = []\n",
    "\n",
    "    for productID, details in products.items():\n",
    "        row = [\n",
    "            productID,\n",
    "            details.get(\"ProductName\", \"N/A\"),\n",
    "            details.get(\"ProductPrice\", \"N/A\"),\n",
    "            details.get(\"ProductCategory\", \"N/A\"),\n",
    "            details.get(\"ProductBrand\", \"N/A\"),\n",
    "            details.get(\"ProductQuantity\", \"N/A\")\n",
    "        ]\n",
    "        table.append(row)\n",
    "\n",
    "    print(\"\\nProduct Details:-\")\n",
    "    print(tabulate(table, headers=headers, tablefmt=\"grid\"))\n",
    "\n",
    "display_products()"
   ]
  },
  {
   "cell_type": "code",
   "execution_count": null,
   "id": "26f1507d",
   "metadata": {},
   "outputs": [
    {
     "ename": "NameError",
     "evalue": "name 'productname' is not defined",
     "output_type": "error",
     "traceback": [
      "\u001b[31m---------------------------------------------------------------------------\u001b[39m",
      "\u001b[31mNameError\u001b[39m                                 Traceback (most recent call last)",
      "\u001b[36mCell\u001b[39m\u001b[36m \u001b[39m\u001b[32mIn[3]\u001b[39m\u001b[32m, line 1\u001b[39m\n\u001b[32m----> \u001b[39m\u001b[32m1\u001b[39m up.UpdateJSON(\u001b[43mproductname\u001b[49m, qn, filename)\n",
      "\u001b[31mNameError\u001b[39m: name 'productname' is not defined"
     ]
    }
   ],
   "source": [
    "print(\"--------------------MENU---------------------\")\n",
    "for key in record.keys():\n",
    "    print(key, record[key]['Name'], record[key]['Price'], record[key]['Qn'])\n",
    "print(\"---------------------------------------------\")\n",
    "print('')\n",
    "\n",
    "# Taking user input for purchase\n",
    "ui_pr = int(input(\"Enter product ID : \"))\n",
    "ui_qn = int(input(\"Enter Quantity   : \"))\n",
    "\n",
    "print(\"---------------------------------------------\")\n",
    "print('')\n",
    "\n",
    "print(\"Name      : \", record[str(ui_pr)][\"Name\"])\n",
    "print(\"Price (Rs): \", record[str(ui_pr)][\"Price\"])\n",
    "print(\"Quantity  : \", ui_qn)\n",
    "print(\"---------------------------------------------\")\n",
    "print(\"Billing   : \", ui_qn * record[str(ui_pr)][\"Price\"], \"Rs\")\n",
    "print(\"---------------------------------------------\")\n",
    "\n",
    "# Update inventory after purchase\n",
    "record[str(ui_pr)]['Qn'] = record[str(ui_pr)]['Qn'] - ui_qn\n",
    "\n",
    "up.UpdateJSON(productname, qn, filename)"
   ]
  },
  {
   "cell_type": "code",
   "execution_count": null,
   "id": "574f8e66",
   "metadata": {},
   "outputs": [],
   "source": []
  }
 ],
 "metadata": {
  "kernelspec": {
   "display_name": "Python 3",
   "language": "python",
   "name": "python3"
  },
  "language_info": {
   "codemirror_mode": {
    "name": "ipython",
    "version": 3
   },
   "file_extension": ".py",
   "mimetype": "text/x-python",
   "name": "python",
   "nbconvert_exporter": "python",
   "pygments_lexer": "ipython3",
   "version": "3.13.5"
  }
 },
 "nbformat": 4,
 "nbformat_minor": 5
}
