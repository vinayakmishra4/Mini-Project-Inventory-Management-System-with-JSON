{
 "cells": [
  {
   "cell_type": "markdown",
   "id": "e8d15433",
   "metadata": {},
   "source": [
    "# INVENTORY MANAGEMENT SYSTEM-SUPPLIER"
   ]
  },
  {
   "cell_type": "markdown",
   "id": "0252ab49",
   "metadata": {},
   "source": [
    "# Make Json File"
   ]
  },
  {
   "cell_type": "code",
   "execution_count": 28,
   "id": "fb50647e",
   "metadata": {},
   "outputs": [
    {
     "name": "stdout",
     "output_type": "stream",
     "text": [
      "products.json already exists\n"
     ]
    }
   ],
   "source": [
    "import os\n",
    "import addetails as add\n",
    "import json\n",
    "filename = \"products.json\"\n",
    "\n",
    "# Check if the file already exists\n",
    "if not os.path.exists(filename):\n",
    "    # Create the file if it doesn't exist\n",
    "    with open(filename, 'w') as file:\n",
    "        print(filename, \"created\")\n",
    "else:\n",
    "    print(filename, \"already exists\")\n"
   ]
  },
  {
   "cell_type": "markdown",
   "id": "93c23544",
   "metadata": {},
   "source": [
    "# Add Details"
   ]
  },
  {
   "cell_type": "raw",
   "id": "9ac01eec-2f95-49c3-b581-949ce6d6135e",
   "metadata": {},
   "source": [
    "Product Details:-\n",
    "1. Product ID\n",
    "2. Product Name\n",
    "3. Product Price\n",
    "4. Product Category\n",
    "5. Product Brand\n",
    "6. Product Quantity\n",
    "These are the details of the product which are now going to mention"
   ]
  },
  {
   "cell_type": "code",
   "execution_count": 29,
   "id": "b254ca52",
   "metadata": {},
   "outputs": [
    {
     "name": "stdout",
     "output_type": "stream",
     "text": [
      "\n",
      "--- Product Details Entered ---\n",
      "Details added of  Product ID: 101\n",
      "\n",
      "✅ Product 101 saved to products.json\n",
      "\n",
      "📦 Updated Product List:\n",
      "{\n",
      "    \"101\": {\n",
      "        \"ProductID\": 101,\n",
      "        \"ProductName\": \"Airpodes 191 ANC\",\n",
      "        \"ProductPrice\": 7000.0,\n",
      "        \"ProductCategory\": \"TWS\",\n",
      "        \"ProductBrand\": \"BOAT\",\n",
      "        \"ProductQuantity\": 100\n",
      "    }\n",
      "}\n"
     ]
    }
   ],
   "source": [
    "import os\n",
    "import json\n",
    "\n",
    "filename = \"products.json\"\n",
    "\n",
    "def save_to_json(filename, product_id, product_data):\n",
    "    \"\"\"Append or update product details in JSON file.\"\"\"\n",
    "    try:\n",
    "        # Load existing data safely\n",
    "        if os.path.exists(filename) and os.path.getsize(filename) > 0:\n",
    "            try:\n",
    "                with open(filename, 'r') as file:\n",
    "                    data = json.load(file)\n",
    "            except json.JSONDecodeError:\n",
    "                # If file has invalid JSON, reset it\n",
    "                data = {}\n",
    "        else:\n",
    "            data = {}\n",
    "\n",
    "        # Add/Update product\n",
    "        data[str(product_id)] = product_data\n",
    "\n",
    "        # Save updated data\n",
    "        with open(filename, 'w') as file:\n",
    "            json.dump(data, file, indent=4)\n",
    "\n",
    "        print(f\"\\n✅ Product {product_id} saved to {filename}\")\n",
    "\n",
    "        # Show full updated JSON\n",
    "        print(\"\\n📦 Updated Product List:\")\n",
    "        print(json.dumps(data, indent=4))\n",
    "\n",
    "    except Exception as e:\n",
    "        print(f\"❌ Error saving to {filename}: {e}\")\n",
    "\n",
    "def get_input_with_check(prompt, func, dtype=None):\n",
    "    \"\"\"Helper to reset attempts, collect input, and stop if None.\"\"\"\n",
    "    add.reset_attempts()\n",
    "    value = func(prompt, dtype) if dtype else func(prompt)\n",
    "    if value is None:\n",
    "        raise Exception(\"Input process terminated\")\n",
    "    return value\n",
    "\n",
    "try:\n",
    "    # Collect all product details\n",
    "    productID       = get_input_with_check(\"Enter the Product ID : \", add.get_positive_number, int)\n",
    "    productName     = get_input_with_check(\"Enter the Product Name : \", add.get_string_input)\n",
    "    productPrice    = get_input_with_check(\"Enter the Product Price : \", add.get_positive_number, float)\n",
    "    productCategory = get_input_with_check(\"Enter the Product Category : \", add.get_string_input)\n",
    "    productBrand    = get_input_with_check(\"Enter the Product Brand : \", add.get_string_input)\n",
    "    productQuantity = get_input_with_check(\"Enter the Product Quantity : \", add.get_positive_number, int)\n",
    "\n",
    "    # Prepare data in desired format\n",
    "    product_data = {\n",
    "        \"ProductID\": int(productID),\n",
    "        \"ProductName\": productName,\n",
    "        \"ProductPrice\": float(productPrice),\n",
    "        \"ProductCategory\": productCategory,\n",
    "        \"ProductBrand\": productBrand,\n",
    "        \"ProductQuantity\": int(productQuantity)\n",
    "    }\n",
    "\n",
    "    # Display entered product details\n",
    "    print(\"\\n--- Product Details Entered ---\")\n",
    "    print(\"Details added of \",f\"Product ID: {product_data['ProductID']}\")\n",
    "\n",
    "    # Save to JSON & show full list\n",
    "    save_to_json(filename, productID, product_data)\n",
    "\n",
    "except Exception as e:\n",
    "    print(f\"\\nProgram terminated: {e}\")"
   ]
  },
  {
   "cell_type": "code",
   "execution_count": null,
   "id": "ac0fd74e",
   "metadata": {},
   "outputs": [],
   "source": []
  }
 ],
 "metadata": {
  "kernelspec": {
   "display_name": "base",
   "language": "python",
   "name": "python3"
  },
  "language_info": {
   "codemirror_mode": {
    "name": "ipython",
    "version": 3
   },
   "file_extension": ".py",
   "mimetype": "text/x-python",
   "name": "python",
   "nbconvert_exporter": "python",
   "pygments_lexer": "ipython3",
   "version": "3.13.5"
  }
 },
 "nbformat": 4,
 "nbformat_minor": 5
}
