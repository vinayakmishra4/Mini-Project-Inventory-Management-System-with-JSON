{
 "cells": [
  {
   "cell_type": "markdown",
   "id": "e8d15433",
   "metadata": {},
   "source": [
    "# INVENTORY MANAGEMENT SYSTEM-SUPPLIER"
   ]
  },
  {
   "cell_type": "markdown",
   "id": "0252ab49",
   "metadata": {},
   "source": [
    "# Make Json File"
   ]
  },
  {
   "cell_type": "code",
   "execution_count": 1,
   "id": "fc40ae32",
   "metadata": {},
   "outputs": [
    {
     "name": "stdout",
     "output_type": "stream",
     "text": [
      "Requirement already satisfied: tabulate in /Users/vinayak/Desktop/Anaconda/anaconda3/lib/python3.13/site-packages (0.9.0)\n",
      "Note: you may need to restart the kernel to use updated packages.\n"
     ]
    }
   ],
   "source": [
    "pip install tabulate"
   ]
  },
  {
   "cell_type": "code",
   "execution_count": 2,
   "id": "fb50647e",
   "metadata": {},
   "outputs": [
    {
     "name": "stdout",
     "output_type": "stream",
     "text": [
      "products.json already exists\n"
     ]
    }
   ],
   "source": [
    "import os\n",
    "import addetails as add\n",
    "import Update as up\n",
    "import json\n",
    "from tabulate import tabulate\n",
    "\n",
    "filename = \"products.json\"\n",
    "\n",
    "# Check if the file already exists\n",
    "if not os.path.exists(filename):\n",
    "    # Create the file if it doesn't exist\n",
    "    with open(filename, 'w') as file:\n",
    "        print(filename, \"created\")\n",
    "else:\n",
    "    print(filename, \"already exists\")\n"
   ]
  },
  {
   "cell_type": "markdown",
   "id": "93c23544",
   "metadata": {},
   "source": [
    "# Add Details"
   ]
  },
  {
   "cell_type": "raw",
   "id": "9ac01eec-2f95-49c3-b581-949ce6d6135e",
   "metadata": {},
   "source": [
    "Product Details:-\n",
    "1. Product ID\n",
    "2. Product Name\n",
    "3. Product Price\n",
    "4. Product Category\n",
    "5. Product Brand\n",
    "6. Product Quantity\n",
    "These are the details of the product which are now going to mention"
   ]
  },
  {
   "cell_type": "code",
   "execution_count": 3,
   "id": "b254ca52",
   "metadata": {},
   "outputs": [
    {
     "name": "stdout",
     "output_type": "stream",
     "text": [
      "\n",
      "--- Product Details Entered ---\n",
      "Details added of Product ID: 106\n",
      "\n",
      "✅ Product 106 saved to products.json\n"
     ]
    }
   ],
   "source": [
    "def save_to_json(filename, product_id, product_data):\n",
    "    \"\"\"Append or update product details in JSON file.\"\"\"\n",
    "    try:\n",
    "        # Load existing data safely\n",
    "        if os.path.exists(filename) and os.path.getsize(filename) > 0:\n",
    "            try:\n",
    "                with open(filename, 'r') as file:\n",
    "                    data = json.load(file)\n",
    "            except json.JSONDecodeError:\n",
    "                # If file has invalid JSON, reset it\n",
    "                data = {}\n",
    "        else:\n",
    "            data = {}\n",
    "\n",
    "        # Check if product ID already exists\n",
    "        if str(product_id) in data:\n",
    "            print(f\"\\n⚠️ Product ID {product_id} already exists. Exiting...\")\n",
    "            return False   # stop saving and exit\n",
    "\n",
    "        # Add new product\n",
    "        data[str(product_id)] = product_data\n",
    "\n",
    "        # Save updated data\n",
    "        with open(filename, 'w') as file:\n",
    "            json.dump(data, file, indent=4)\n",
    "\n",
    "        print(f\"\\n✅ Product {product_id} saved to {filename}\")\n",
    "        return True  # success\n",
    "\n",
    "    except Exception as e:\n",
    "        print(f\"❌ Error saving to {filename}: {e}\")\n",
    "        return False\n",
    "\n",
    "# --- Simulated Input Functions --- #\n",
    "\n",
    "def get_positive_number(prompt, dtype):\n",
    "    while True:\n",
    "        try:\n",
    "            val = dtype(input(prompt))\n",
    "            if val > 0:\n",
    "                return val\n",
    "            else:\n",
    "                print(\"Please enter a positive value.\")\n",
    "        except ValueError:\n",
    "            print(\"Invalid input. Try again.\")\n",
    "\n",
    "def get_string_input(prompt):\n",
    "    val = input(prompt).strip()\n",
    "    return val if val else None\n",
    "\n",
    "def reset_attempts():\n",
    "    pass  # You can implement retry tracking if needed\n",
    "\n",
    "def get_input_with_check(prompt, func, dtype=None):\n",
    "    \"\"\"Helper to reset attempts, collect input, and stop if None.\"\"\"\n",
    "    reset_attempts()\n",
    "    value = func(prompt, dtype) if dtype else func(prompt)\n",
    "    if value is None:\n",
    "        raise Exception(\"Input process terminated\")\n",
    "    return value\n",
    "\n",
    "# --- Main Program Execution --- #\n",
    "\n",
    "\n",
    "try:\n",
    "    # Collect all product details\n",
    "    productID       = get_input_with_check(\"Enter the Product ID : \", get_positive_number, int)\n",
    "    productName     = get_input_with_check(\"Enter the Product Name : \", get_string_input)\n",
    "    productPrice    = get_input_with_check(\"Enter the Product Price : \", get_positive_number, float)\n",
    "    productCategory = get_input_with_check(\"Enter the Product Category : \", get_string_input)\n",
    "    productBrand    = get_input_with_check(\"Enter the Product Brand : \", get_string_input)\n",
    "    productQuantity = get_input_with_check(\"Enter the Product Quantity : \", get_positive_number, int)\n",
    "\n",
    "    # Prepare data\n",
    "    product_data = {\n",
    "        \"ProductID\": productID,\n",
    "        \"ProductName\": productName,\n",
    "        \"ProductPrice\": productPrice,\n",
    "        \"ProductCategory\": productCategory,\n",
    "        \"ProductBrand\": productBrand,\n",
    "        \"ProductQuantity\": productQuantity\n",
    "    }\n",
    "\n",
    "    print(\"\\n--- Product Details Entered ---\")\n",
    "    print(f\"Details added of Product ID: {product_data['ProductID']}\")\n",
    "\n",
    "    # Save to JSON\n",
    "    save_to_json(filename, productID, product_data)\n",
    "\n",
    "except Exception as e:\n",
    "    print(f\"\\nProgram terminated: {e}\")\n"
   ]
  },
  {
   "cell_type": "markdown",
   "id": "27c1ab36",
   "metadata": {},
   "source": [
    "# List of Prodcuts"
   ]
  },
  {
   "cell_type": "code",
   "execution_count": 4,
   "id": "76ee47e2",
   "metadata": {},
   "outputs": [
    {
     "name": "stdout",
     "output_type": "stream",
     "text": [
      "\n",
      "Product Details:-\n",
      "+--------------+------------------+-----------------+--------------------+-----------------+--------------------+\n",
      "|   Product ID | Product Name     |   Product Price | Product Category   | Product Brand   |   Product Quantity |\n",
      "+==============+==================+=================+====================+=================+====================+\n",
      "|          101 | Airpodes 191 ANC |            7000 | TWS                | BOAT            |                200 |\n",
      "+--------------+------------------+-----------------+--------------------+-----------------+--------------------+\n",
      "|          102 | Thinkpad         |           60000 | Laptop             | Lenevo          |                100 |\n",
      "+--------------+------------------+-----------------+--------------------+-----------------+--------------------+\n",
      "|          103 | Companion 500    |            2000 | Laptop Acessriores | ZEBORNICS       |                100 |\n",
      "+--------------+------------------+-----------------+--------------------+-----------------+--------------------+\n",
      "|          104 | MARKER           |              30 | MAKER              | DOMS            |               1000 |\n",
      "+--------------+------------------+-----------------+--------------------+-----------------+--------------------+\n",
      "|          105 | ZEB-PSPK 34      |            3000 | Speaker            | ZEBORNICS       |                100 |\n",
      "+--------------+------------------+-----------------+--------------------+-----------------+--------------------+\n",
      "|          106 | 106              |           25000 | PC                 | MSI             |                 20 |\n",
      "+--------------+------------------+-----------------+--------------------+-----------------+--------------------+\n"
     ]
    }
   ],
   "source": [
    "def load_products(filename):\n",
    "    if os.path.exists(filename):\n",
    "        with open(filename, 'r') as file:\n",
    "            return json.load(file)\n",
    "    return {}\n",
    "\n",
    "def display_products():\n",
    "    products = load_products(filename)\n",
    "\n",
    "    if not products:\n",
    "        print(\"No products found.\")\n",
    "        return\n",
    "\n",
    "    headers = [\n",
    "        \"Product ID\", \"Product Name\", \"Product Price\",\n",
    "        \"Product Category\", \"Product Brand\", \"Product Quantity\"\n",
    "    ]\n",
    "    table = []\n",
    "\n",
    "    for productID, details in products.items():\n",
    "        row = [\n",
    "            productID,\n",
    "            details.get(\"ProductName\", \"N/A\"),\n",
    "            details.get(\"ProductPrice\", \"N/A\"),\n",
    "            details.get(\"ProductCategory\", \"N/A\"),\n",
    "            details.get(\"ProductBrand\", \"N/A\"),\n",
    "            details.get(\"ProductQuantity\", \"N/A\")\n",
    "        ]\n",
    "        table.append(row)\n",
    "\n",
    "    print(\"\\nProduct Details:-\")\n",
    "    print(tabulate(table, headers=headers, tablefmt=\"grid\"))\n",
    "\n",
    "display_products()"
   ]
  }
 ],
 "metadata": {
  "kernelspec": {
   "display_name": "base",
   "language": "python",
   "name": "python3"
  },
  "language_info": {
   "codemirror_mode": {
    "name": "ipython",
    "version": 3
   },
   "file_extension": ".py",
   "mimetype": "text/x-python",
   "name": "python",
   "nbconvert_exporter": "python",
   "pygments_lexer": "ipython3",
   "version": "3.13.5"
  }
 },
 "nbformat": 4,
 "nbformat_minor": 5
}
