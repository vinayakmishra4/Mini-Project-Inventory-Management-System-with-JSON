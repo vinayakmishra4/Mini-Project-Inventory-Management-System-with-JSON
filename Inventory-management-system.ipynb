{
 "cells": [
  {
   "cell_type": "markdown",
   "id": "e8d15433",
   "metadata": {},
   "source": [
    "# INVENTORY MANAGEMENT SYSTEM-SUPPLIER"
   ]
  },
  {
   "cell_type": "markdown",
   "id": "0252ab49",
   "metadata": {},
   "source": [
    "# Make Json File"
   ]
  },
  {
   "cell_type": "code",
   "execution_count": 13,
   "id": "fc40ae32",
   "metadata": {},
   "outputs": [
    {
     "name": "stdout",
     "output_type": "stream",
     "text": [
      "Requirement already satisfied: tabulate in /Users/vinayak/Desktop/Anaconda/anaconda3/lib/python3.13/site-packages (0.9.0)\n"
     ]
    }
   ],
   "source": [
    "! pip3 install tabulate"
   ]
  },
  {
   "cell_type": "code",
   "execution_count": 17,
   "id": "fb50647e",
   "metadata": {},
   "outputs": [
    {
     "name": "stdout",
     "output_type": "stream",
     "text": [
      "products.json already exists\n"
     ]
    }
   ],
   "source": [
    "import os\n",
    "import addetails as add\n",
    "import update as up\n",
    "import json\n",
    "\n",
    "filename = \"products.json\"\n",
    "\n",
    "# Check if the file already exists\n",
    "if not os.path.exists(filename):\n",
    "    # Create the file if it doesn't exist\n",
    "    with open(filename, 'w') as file:\n",
    "        print(filename, \"created\")\n",
    "else:\n",
    "    print(filename, \"already exists\")\n"
   ]
  },
  {
   "cell_type": "markdown",
   "id": "93c23544",
   "metadata": {},
   "source": [
    "# Add Details"
   ]
  },
  {
   "cell_type": "raw",
   "id": "9ac01eec-2f95-49c3-b581-949ce6d6135e",
   "metadata": {},
   "source": [
    "Product Details:-\n",
    "1. Product ID\n",
    "2. Product Name\n",
    "3. Product Price\n",
    "4. Product Category\n",
    "5. Product Brand\n",
    "6. Product Quantity\n",
    "These are the details of the product which are now going to mention"
   ]
  },
  {
   "cell_type": "code",
   "execution_count": 15,
   "id": "b254ca52",
   "metadata": {},
   "outputs": [
    {
     "name": "stdout",
     "output_type": "stream",
     "text": [
      "\n",
      "--- Product Details Entered ---\n",
      "Details added of Product ID: 106\n",
      "\n",
      "✅ Product 106 saved to products.json\n"
     ]
    }
   ],
   "source": [
    "def save_to_json(filename, product_id, product_data):\n",
    "    \"\"\"Append or update product details in JSON file.\"\"\"\n",
    "    try:\n",
    "        # Load existing data safely\n",
    "        if os.path.exists(filename) and os.path.getsize(filename) > 0:\n",
    "            try:\n",
    "                with open(filename, 'r') as file:\n",
    "                    data = json.load(file)\n",
    "            except json.JSONDecodeError:\n",
    "                # If file has invalid JSON, reset it\n",
    "                data = {}\n",
    "        else:\n",
    "            data = {}\n",
    "\n",
    "        # Check if product ID already exists\n",
    "        if str(product_id) in data:\n",
    "            print(f\"\\n⚠️ Product ID {product_id} already exists. Exiting...\")\n",
    "            return False   # stop saving and exit\n",
    "\n",
    "        # Add new product\n",
    "        data[str(product_id)] = product_data\n",
    "\n",
    "        # Save updated data\n",
    "        with open(filename, 'w') as file:\n",
    "            json.dump(data, file, indent=4)\n",
    "\n",
    "        print(f\"\\n✅ Product {product_id} saved to {filename}\")\n",
    "        return True  # success\n",
    "\n",
    "    except Exception as e:\n",
    "        print(f\"❌ Error saving to {filename}: {e}\")\n",
    "        return False\n",
    "\n",
    "# --- Simulated Input Functions --- #\n",
    "\n",
    "def get_positive_number(prompt, dtype):\n",
    "    while True:\n",
    "        try:\n",
    "            val = dtype(input(prompt))\n",
    "            if val > 0:\n",
    "                return val\n",
    "            else:\n",
    "                print(\"Please enter a positive value.\")\n",
    "        except ValueError:\n",
    "            print(\"Invalid input. Try again.\")\n",
    "\n",
    "def get_string_input(prompt):\n",
    "    val = input(prompt).strip()\n",
    "    return val if val else None\n",
    "\n",
    "def reset_attempts():\n",
    "    pass  # You can implement retry tracking if needed\n",
    "\n",
    "def get_input_with_check(prompt, func, dtype=None):\n",
    "    \"\"\"Helper to reset attempts, collect input, and stop if None.\"\"\"\n",
    "    reset_attempts()\n",
    "    value = func(prompt, dtype) if dtype else func(prompt)\n",
    "    if value is None:\n",
    "        raise Exception(\"Input process terminated\")\n",
    "    return value\n",
    "\n",
    "# --- Main Program Execution --- #\n",
    "\n",
    "\n",
    "try:\n",
    "    # Collect all product details\n",
    "    productID       = get_input_with_check(\"Enter the Product ID : \", get_positive_number, int)\n",
    "    productName     = get_input_with_check(\"Enter the Product Name : \", get_string_input)\n",
    "    productPrice    = get_input_with_check(\"Enter the Product Price : \", get_positive_number, float)\n",
    "    productCategory = get_input_with_check(\"Enter the Product Category : \", get_string_input)\n",
    "    productBrand    = get_input_with_check(\"Enter the Product Brand : \", get_string_input)\n",
    "    productQuantity = get_input_with_check(\"Enter the Product Quantity : \", get_positive_number, int)\n",
    "\n",
    "    # Prepare data\n",
    "    product_data = {\n",
    "        \"ProductID\": productID,\n",
    "        \"ProductName\": productName,\n",
    "        \"ProductPrice\": productPrice,\n",
    "        \"ProductCategory\": productCategory,\n",
    "        \"ProductBrand\": productBrand,\n",
    "        \"ProductQuantity\": productQuantity\n",
    "    }\n",
    "\n",
    "    print(\"\\n--- Product Details Entered ---\")\n",
    "    print(f\"Details added of Product ID: {product_data['ProductID']}\")\n",
    "\n",
    "    # Save to JSON\n",
    "    save_to_json(filename, productID, product_data)\n",
    "\n",
    "except Exception as e:\n",
    "    print(f\"\\nProgram terminated: {e}\")\n"
   ]
  },
  {
   "cell_type": "code",
   "execution_count": null,
   "id": "9433785a",
   "metadata": {},
   "outputs": [
    {
     "ename": "NameError",
     "evalue": "name 'productname' is not defined",
     "output_type": "error",
     "traceback": [
      "\u001b[0;31m---------------------------------------------------------------------------\u001b[0m",
      "\u001b[0;31mNameError\u001b[0m                                 Traceback (most recent call last)",
      "Cell \u001b[0;32mIn[18], line 1\u001b[0m\n\u001b[0;32m----> 1\u001b[0m up\u001b[38;5;241m.\u001b[39mUpdateJSON(productname, qn, filename)\n",
      "\u001b[0;31mNameError\u001b[0m: name 'productname' is not defined"
     ]
    }
   ],
   "source": []
  },
  {
   "cell_type": "code",
   "execution_count": null,
   "id": "f7198d99",
   "metadata": {},
   "outputs": [],
   "source": []
  }
 ],
 "metadata": {
  "kernelspec": {
   "display_name": "Python 3",
   "language": "python",
   "name": "python3"
  },
  "language_info": {
   "codemirror_mode": {
    "name": "ipython",
    "version": 3
   },
   "file_extension": ".py",
   "mimetype": "text/x-python",
   "name": "python",
   "nbconvert_exporter": "python",
   "pygments_lexer": "ipython3",
   "version": "3.13.5"
  }
 },
 "nbformat": 4,
 "nbformat_minor": 5
}
