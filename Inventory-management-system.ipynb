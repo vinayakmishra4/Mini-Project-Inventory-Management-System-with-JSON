{
 "cells": [
  {
   "cell_type": "markdown",
   "id": "e8d15433",
   "metadata": {},
   "source": [
    "# INVENTORY MANAGEMENT SYSTEM-SUPPLIER"
   ]
  },
  {
   "cell_type": "markdown",
   "id": "0252ab49",
   "metadata": {},
   "source": [
    "# Make Json File"
   ]
  },
  {
   "cell_type": "code",
   "execution_count": 1,
   "id": "fb50647e",
   "metadata": {},
   "outputs": [
    {
     "name": "stdout",
     "output_type": "stream",
     "text": [
      "Inventory.json already exists\n"
     ]
    }
   ],
   "source": [
    "import os\n",
    "import addetails as add\n",
    "filename = 'Inventory.json'\n",
    "\n",
    "# Check if the file already exists\n",
    "if not os.path.exists(filename):\n",
    "    # Create the file if it doesn't exist\n",
    "    with open(filename, 'w') as file:\n",
    "        print(filename, \"created\")\n",
    "else:\n",
    "    print(filename, \"already exists\")\n"
   ]
  },
  {
   "cell_type": "markdown",
   "id": "93c23544",
   "metadata": {},
   "source": [
    "# Add Details"
   ]
  },
  {
   "cell_type": "raw",
   "id": "9ac01eec-2f95-49c3-b581-949ce6d6135e",
   "metadata": {},
   "source": [
    "Product Details:-\n",
    "1. Product ID\n",
    "2. Product Name\n",
    "3. Product Price\n",
    "4. Product Category\n",
    "5. Product Brand\n",
    "6. Product Quantity\n",
    "These are the details of the product which are now going to mention"
   ]
  },
  {
   "cell_type": "code",
   "execution_count": 4,
   "id": "3411a4b4-0596-4bcb-b7af-473c8b66c389",
   "metadata": {},
   "outputs": [
    {
     "name": "stdout",
     "output_type": "stream",
     "text": [
      "===============\n",
      "\n",
      "--- Product Details ---\n",
      "Product ID      : 1001\n",
      "Product Name    : Power bank\n",
      "Product Price   : 2000.00\n",
      "Product Category: MI\n",
      "Product Brand   : MI \n",
      "Product Quantity: 100 \n"
     ]
    }
   ],
   "source": [
    "try:\n",
    "    # Collect product details with datatype checks\n",
    "    add.reset_attempts()\n",
    "    productID = add.get_positive_number(\"Enter the Product ID : \", int)\n",
    "    if productID is None:\n",
    "        raise Exception(\"Input process terminated\")\n",
    "    \n",
    "    add.reset_attempts()\n",
    "    productName = add.get_string_input(\"Enter the Product Name : \")\n",
    "    if productName is None:\n",
    "        raise Exception(\"Input process terminated\")\n",
    "    \n",
    "    add.reset_attempts()\n",
    "    productPrice = add.get_positive_number(\"Enter the Product Price : \", float)\n",
    "    if productPrice is None:\n",
    "        raise Exception(\"Input process terminated\")\n",
    "    \n",
    "    add.reset_attempts()\n",
    "    productCategory = add.get_string_input(\"Enter the Product Category : \")\n",
    "    if productCategory is None:\n",
    "        raise Exception(\"Input process terminated\")\n",
    "    \n",
    "    add.reset_attempts()\n",
    "    productBrand = add.get_string_input(\"Enter the Product Brand : \")\n",
    "    if productBrand is None:\n",
    "        raise Exception(\"Input process terminated\")\n",
    "    \n",
    "    add.reset_attempts()\n",
    "    productQuantity = add.get_positive_number(\"Enter the Product Quantity : \", int)\n",
    "    if productQuantity is None:\n",
    "        raise Exception(\"Input process terminated\")\n",
    "\n",
    "    # Display results with types\n",
    "    print(\"=\"*15)\n",
    "    print(\"\\n--- Product Details ---\")\n",
    "    print(f\"Product ID      : {productID}\")\n",
    "    print(f\"Product Name    : {productName}\")\n",
    "    print(f\"Product Price   : {productPrice:.2f}\")\n",
    "    print(f\"Product Category: {productCategory}\")\n",
    "    print(f\"Product Brand   : {productBrand} \")\n",
    "    print(f\"Product Quantity: {productQuantity} \")\n",
    "\n",
    "except Exception as e:\n",
    "    print(f\"\\nProgram terminated: {e}\")"
   ]
  },
  {
   "cell_type": "code",
   "execution_count": null,
   "id": "5a436bbd",
   "metadata": {},
   "outputs": [],
   "source": []
  }
 ],
 "metadata": {
  "kernelspec": {
   "display_name": "base",
   "language": "python",
   "name": "python3"
  },
  "language_info": {
   "codemirror_mode": {
    "name": "ipython",
    "version": 3
   },
   "file_extension": ".py",
   "mimetype": "text/x-python",
   "name": "python",
   "nbconvert_exporter": "python",
   "pygments_lexer": "ipython3",
   "version": "3.13.5"
  }
 },
 "nbformat": 4,
 "nbformat_minor": 5
}
