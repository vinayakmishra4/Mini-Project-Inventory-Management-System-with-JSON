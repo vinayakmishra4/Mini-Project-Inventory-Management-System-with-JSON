{
 "cells": [
  {
   "cell_type": "markdown",
   "id": "e8d15433",
   "metadata": {},
   "source": [
    "# INVENTORY MANAGEMENT SYSTEM "
   ]
  },
  {
   "cell_type": "markdown",
   "id": "0252ab49",
   "metadata": {},
   "source": [
    "# Make Json File"
   ]
  },
  {
   "cell_type": "code",
   "execution_count": null,
   "id": "fb50647e",
   "metadata": {},
   "outputs": [
    {
     "name": "stdout",
     "output_type": "stream",
     "text": [
      "Inventory.json already exists\n"
     ]
    }
   ],
   "source": [
    "import os\n",
    "import addetails as add\n",
    "filename = 'Inventory.json'\n",
    "\n",
    "# Check if the file already exists\n",
    "if not os.path.exists(filename):\n",
    "    # Create the file if it doesn't exist\n",
    "    with open(filename, 'w') as file:\n",
    "        print(filename, \"created\")\n",
    "else:\n",
    "    print(filename, \"already exists\")\n"
   ]
  },
  {
   "cell_type": "markdown",
   "id": "93c23544",
   "metadata": {},
   "source": [
    "# Add Details"
   ]
  },
  {
   "cell_type": "code",
   "execution_count": null,
   "id": "1f059c57",
   "metadata": {},
   "outputs": [
    {
     "name": "stdout",
     "output_type": "stream",
     "text": [
      "\n",
      "Program terminated: name 'add' is not defined\n"
     ]
    }
   ],
   "source": []
  },
  {
   "cell_type": "code",
   "execution_count": null,
   "id": "909a5777",
   "metadata": {},
   "outputs": [],
   "source": []
  }
 ],
 "metadata": {
  "kernelspec": {
   "display_name": "base",
   "language": "python",
   "name": "python3"
  },
  "language_info": {
   "codemirror_mode": {
    "name": "ipython",
    "version": 3
   },
   "file_extension": ".py",
   "mimetype": "text/x-python",
   "name": "python",
   "nbconvert_exporter": "python",
   "pygments_lexer": "ipython3",
   "version": "3.13.5"
  }
 },
 "nbformat": 4,
 "nbformat_minor": 5
}
